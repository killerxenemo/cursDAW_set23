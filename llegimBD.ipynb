{
 "cells": [
  {
   "cell_type": "code",
   "execution_count": 3,
   "id": "e6312a0b-6f3c-43f2-ae9c-2697f779d056",
   "metadata": {},
   "outputs": [],
   "source": [
    "import pymysql"
   ]
  },
  {
   "cell_type": "code",
   "execution_count": 4,
   "id": "6b69a633-3ec2-4f1b-8ec5-6520853426cd",
   "metadata": {},
   "outputs": [],
   "source": [
    "db = pymysql.connect(host='localhost',\n",
    "                             user='root',\n",
    "                             db='horaris',\n",
    "                             charset='utf8mb4',\n",
    "                             autocommit=True,\n",
    "                             cursorclass=pymysql.cursors.DictCursor)"
   ]
  },
  {
   "cell_type": "code",
   "execution_count": 5,
   "id": "a7a39ffb-6575-4157-985c-165421bebb0e",
   "metadata": {},
   "outputs": [
    {
     "data": {
      "text/plain": [
       "6"
      ]
     },
     "execution_count": 5,
     "metadata": {},
     "output_type": "execute_result"
    }
   ],
   "source": [
    "cursor=db.cursor()\n",
    "sql=\"SELECT * FROM materies\"\n",
    "cursor.execute(sql)"
   ]
  },
  {
   "cell_type": "code",
   "execution_count": 6,
   "id": "b2b46d8b-103a-4fc6-b38c-3df2202819bd",
   "metadata": {},
   "outputs": [
    {
     "name": "stdout",
     "output_type": "stream",
     "text": [
      "{'id_materia': 1, 'nomcomplet': 'Entorns de Desenvolupament', 'acronim': 'ENT'}\n",
      "{'id_materia': 2, 'nomcomplet': 'Bases de dades', 'acronim': 'BD'}\n",
      "{'id_materia': 3, 'nomcomplet': 'Programació', 'acronim': 'PROG'}\n",
      "{'id_materia': 4, 'nomcomplet': 'Formació i Orientació laboral', 'acronim': 'FOL'}\n",
      "{'id_materia': 5, 'nomcomplet': 'Sistemes Informàtics', 'acronim': 'SIST'}\n",
      "{'id_materia': 6, 'nomcomplet': 'Llenguatge de marques', 'acronim': 'HTML'}\n"
     ]
    }
   ],
   "source": [
    "ResQuery=cursor.fetchall()\n",
    "for r in ResQuery:\n",
    "    print(r)"
   ]
  },
  {
   "cell_type": "code",
   "execution_count": 8,
   "id": "93379263-98e7-4096-bcf8-92bfa5341160",
   "metadata": {},
   "outputs": [
    {
     "name": "stdout",
     "output_type": "stream",
     "text": [
      "[{'id_materia': 1, 'nomcomplet': 'Entorns de Desenvolupament', 'acronim': 'ENT'}, {'id_materia': 2, 'nomcomplet': 'Bases de dades', 'acronim': 'BD'}, {'id_materia': 3, 'nomcomplet': 'Programació', 'acronim': 'PROG'}, {'id_materia': 4, 'nomcomplet': 'Formació i Orientació laboral', 'acronim': 'FOL'}, {'id_materia': 5, 'nomcomplet': 'Sistemes Informàtics', 'acronim': 'SIST'}, {'id_materia': 6, 'nomcomplet': 'Llenguatge de marques', 'acronim': 'HTML'}]\n"
     ]
    }
   ],
   "source": [
    "print(ResQuery)"
   ]
  },
  {
   "cell_type": "code",
   "execution_count": 10,
   "id": "30aefe38-4e88-4278-98fa-af121c793389",
   "metadata": {},
   "outputs": [
    {
     "data": {
      "text/plain": [
       "'Programació'"
      ]
     },
     "execution_count": 10,
     "metadata": {},
     "output_type": "execute_result"
    }
   ],
   "source": [
    "a=ResQuery[2]['nomcomplet']\n",
    "a"
   ]
  },
  {
   "cell_type": "code",
   "execution_count": 7,
   "id": "f1666dc1-bd87-4080-ad62-e4f65c1dd690",
   "metadata": {},
   "outputs": [],
   "source": [
    "db.close()"
   ]
  },
  {
   "cell_type": "code",
   "execution_count": 11,
   "id": "abe3fa9a-b716-46bd-954a-ac41d826747e",
   "metadata": {},
   "outputs": [],
   "source": [
    "import json"
   ]
  },
  {
   "cell_type": "markdown",
   "id": "29eafed8-6fe1-41fa-8615-8299f2cd7470",
   "metadata": {},
   "source": [
    "Convertim l'objecte (array de diccionaris) a json"
   ]
  },
  {
   "cell_type": "code",
   "execution_count": 12,
   "id": "a68ceaa7-92e4-446c-85eb-337c763b4a5c",
   "metadata": {},
   "outputs": [],
   "source": [
    "json_object=json.dumps(ResQuery)"
   ]
  },
  {
   "cell_type": "markdown",
   "id": "ee2f0f43-25f9-4f4c-9e72-ae710dc1a810",
   "metadata": {},
   "source": [
    "Escrivim l'arxiu"
   ]
  },
  {
   "cell_type": "code",
   "execution_count": 13,
   "id": "1f4ee8b1-894a-4f27-96f5-3e11b45e1207",
   "metadata": {},
   "outputs": [],
   "source": [
    "with open(\"sample.json\", \"w\") as outfile:\n",
    "    outfile.write(json_object)"
   ]
  },
  {
   "cell_type": "code",
   "execution_count": null,
   "id": "16dbdeab-e440-4c92-9acb-14b1654f3db5",
   "metadata": {},
   "outputs": [],
   "source": []
  }
 ],
 "metadata": {
  "kernelspec": {
   "display_name": "Python 3 (ipykernel)",
   "language": "python",
   "name": "python3"
  },
  "language_info": {
   "codemirror_mode": {
    "name": "ipython",
    "version": 3
   },
   "file_extension": ".py",
   "mimetype": "text/x-python",
   "name": "python",
   "nbconvert_exporter": "python",
   "pygments_lexer": "ipython3",
   "version": "3.10.4"
  }
 },
 "nbformat": 4,
 "nbformat_minor": 5
}
