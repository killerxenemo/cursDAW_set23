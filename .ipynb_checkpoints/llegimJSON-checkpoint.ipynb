{
 "cells": [
  {
   "cell_type": "code",
   "execution_count": 1,
   "id": "e6312a0b-6f3c-43f2-ae9c-2697f779d056",
   "metadata": {},
   "outputs": [],
   "source": [
    "import json"
   ]
  },
  {
   "cell_type": "code",
   "execution_count": 2,
   "id": "6b69a633-3ec2-4f1b-8ec5-6520853426cd",
   "metadata": {},
   "outputs": [],
   "source": [
    "file=open('perDies.json')\n",
    "dades=json.load(file)\n",
    "file.close()"
   ]
  },
  {
   "cell_type": "code",
   "execution_count": 3,
   "id": "a7a39ffb-6575-4157-985c-165421bebb0e",
   "metadata": {},
   "outputs": [
    {
     "data": {
      "text/plain": [
       "{'Dilluns': {'1': 'HTML',\n",
       "  '2': 'HTML',\n",
       "  '3': 'PROG',\n",
       "  '4': 'PROG',\n",
       "  '5': 'BD',\n",
       "  '6': 'BD'},\n",
       " 'Dimarts': {'1': 'SIST',\n",
       "  '2': 'SIST',\n",
       "  '3': 'BD',\n",
       "  '4': 'BD',\n",
       "  '5': 'ENT',\n",
       "  '6': 'ENT'},\n",
       " 'Dimecres': {'1': 'BD',\n",
       "  '2': 'BD',\n",
       "  '3': 'HTML',\n",
       "  '4': 'HTML',\n",
       "  '5': 'PROG',\n",
       "  '6': 'PROG'},\n",
       " 'Dijous': {'1': 'PROG',\n",
       "  '2': 'PROG',\n",
       "  '3': 'PROG',\n",
       "  '4': 'ENT',\n",
       "  '5': 'FOL',\n",
       "  '6': 'FOL'},\n",
       " 'Divendres': {'1': 'FOL',\n",
       "  '2': 'BD',\n",
       "  '3': 'BD',\n",
       "  '4': 'SIST',\n",
       "  '5': 'SIST',\n",
       "  '6': 'SIST'}}"
      ]
     },
     "execution_count": 3,
     "metadata": {},
     "output_type": "execute_result"
    }
   ],
   "source": [
    "dades"
   ]
  },
  {
   "cell_type": "code",
   "execution_count": 4,
   "id": "f1666dc1-bd87-4080-ad62-e4f65c1dd690",
   "metadata": {},
   "outputs": [
    {
     "data": {
      "text/plain": [
       "{'1': 'HTML', '2': 'HTML', '3': 'PROG', '4': 'PROG', '5': 'BD', '6': 'BD'}"
      ]
     },
     "execution_count": 4,
     "metadata": {},
     "output_type": "execute_result"
    }
   ],
   "source": [
    "dades['Dilluns']"
   ]
  },
  {
   "cell_type": "code",
   "execution_count": null,
   "id": "abe3fa9a-b716-46bd-954a-ac41d826747e",
   "metadata": {},
   "outputs": [],
   "source": []
  }
 ],
 "metadata": {
  "kernelspec": {
   "display_name": "Python 3 (ipykernel)",
   "language": "python",
   "name": "python3"
  },
  "language_info": {
   "codemirror_mode": {
    "name": "ipython",
    "version": 3
   },
   "file_extension": ".py",
   "mimetype": "text/x-python",
   "name": "python",
   "nbconvert_exporter": "python",
   "pygments_lexer": "ipython3",
   "version": "3.10.4"
  }
 },
 "nbformat": 4,
 "nbformat_minor": 5
}
